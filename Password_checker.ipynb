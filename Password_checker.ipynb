{
 "cells": [
  {
   "cell_type": "code",
   "execution_count": 2,
   "metadata": {},
   "outputs": [],
   "source": [
    "# importing required libraries\n",
    "import requests\n",
    "import hashlib\n",
    "\n",
    "\n",
    "# function to get the details about password input\n",
    "def request_api_data(query_char):\n",
    "    url = 'https://api.pwnedpasswords.com/range/' + query_char       # query_char should be hash and not str or int \n",
    "    res = requests.get(url)\n",
    "    if res.status_code != 200:\n",
    "        raise RuntimeError(f'Error fetching: {res.status_code}, check the api and try again')\n",
    "    return res\n",
    "\n",
    "\n",
    "# function to get the number of leaks of our password\n",
    "def get_password_leaks_counts(hashes, hash_to_check):\n",
    "    hashess = (line.split(':') for line in hashes.text.splitlines())\n",
    "    for h, count in hashess:\n",
    "        if h == hash_to_check:\n",
    "            return count\n",
    "    return 0\n",
    "\n",
    "\n",
    "# function to give input to above two functions in forms of hash and str\n",
    "def pawned_api_check(password):\n",
    "    sha1pass = hashlib.sha1(password.encode('utf-8')).hexdigest().upper()        #convert str to required hash format for api\n",
    "    first5_chars , remain_char = sha1pass[:5], sha1pass[5:]\n",
    "    response = request_api_data(first5_chars)\n",
    "    return get_password_leaks_counts(response, remain_char)\n",
    "\n",
    "\n",
    "# final function to check our password\n",
    "def check_password(password):\n",
    "  count = pawned_api_check(password)\n",
    "  if count:\n",
    "    print(f'{password} was found {count} times... you should probably change your password!')\n",
    "  else:\n",
    "    print(f'{password} was NOT found. Carry on!')\n",
    "  return 'done!'"
   ]
  }
 ],
 "metadata": {
  "kernelspec": {
   "display_name": "base",
   "language": "python",
   "name": "python3"
  },
  "language_info": {
   "codemirror_mode": {
    "name": "ipython",
    "version": 3
   },
   "file_extension": ".py",
   "mimetype": "text/x-python",
   "name": "python",
   "nbconvert_exporter": "python",
   "pygments_lexer": "ipython3",
   "version": "3.9.13"
  },
  "orig_nbformat": 4
 },
 "nbformat": 4,
 "nbformat_minor": 2
}
